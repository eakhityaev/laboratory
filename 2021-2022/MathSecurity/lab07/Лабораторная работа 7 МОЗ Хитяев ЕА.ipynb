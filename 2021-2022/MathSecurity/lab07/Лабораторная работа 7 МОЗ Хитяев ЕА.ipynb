{
 "cells": [
  {
   "cell_type": "code",
   "execution_count": 5,
   "metadata": {},
   "outputs": [
    {
     "name": "stdout",
     "output_type": "stream",
     "text": [
      "(10, 64, 107) :    x = 20\n",
      "Верификация:  True\n",
      "\n"
     ]
    }
   ],
   "source": [
    "def euclid_extended(a, b):\n",
    "    if b == 0:\n",
    "        return a, 1, 0\n",
    "    else:\n",
    "        d, xx, yy = euclid_extended(b, a%b)\n",
    "        x = yy \n",
    "        y = xx - (a // b) * yy\n",
    "        return d, x, y\n",
    "\n",
    "def inverse(a, n):\n",
    "    return (euclid_extended(a, n)[1])\n",
    "\n",
    "def xab(x, a, b, x_swap):\n",
    "    (G, H, P, Q) = x_swap\n",
    "    sub = x % 3\n",
    "    if sub == 0:\n",
    "        x = x*x_swap[0] % x_swap[2]\n",
    "        a = (a+1) % Q\n",
    "    if sub == 1:\n",
    "        x = x * x_swap[1] % x_swap[2]\n",
    "        b = (b + 1) % x_swap[2]\n",
    "    if sub == 2:\n",
    "        x = x*x % x_swap[2]\n",
    "        a = a*2 % x_swap[3]\n",
    "        b = b*2 % x_swap[3]\n",
    "    return x, a, b\n",
    "\n",
    "def pollard(G, H, P):\n",
    "    Q = int((P - 1) // 2)\n",
    "    x = G*H\n",
    "    a = 1\n",
    "    b = 1\n",
    "    X = x\n",
    "    A = a\n",
    "    B = b\n",
    "    for i in range(1, P):\n",
    "        x, a, b = xab(x, a, b, (G, H, P, Q))\n",
    "        X, A, B = xab(X, A, B, (G, H, P, Q))\n",
    "        X, A, B = xab(X, A, B, (G, H, P, Q))\n",
    "        if x == X:\n",
    "            break\n",
    "    nom = a-A\n",
    "    denom = B-b\n",
    "    res = (inverse(denom, Q) * nom) % Q\n",
    "    if verify(G, H, P, res):\n",
    "        return res\n",
    "    return res + Q\n",
    "\n",
    "def verify(g, h, p, x):\n",
    "    return pow(g, x, p) == h\n",
    "\n",
    "args = [(10, 64, 107)]\n",
    "\n",
    "for arg in args:\n",
    "    res = pollard(*arg)\n",
    "    print(arg, ':    x =', res)\n",
    "    print(\"Верификация: \", verify(arg[0], arg[1], arg[2], res))\n",
    "    print()"
   ]
  },
  {
   "cell_type": "code",
   "execution_count": null,
   "metadata": {},
   "outputs": [],
   "source": []
  },
  {
   "cell_type": "code",
   "execution_count": null,
   "metadata": {},
   "outputs": [],
   "source": []
  },
  {
   "cell_type": "code",
   "execution_count": null,
   "metadata": {},
   "outputs": [],
   "source": []
  },
  {
   "cell_type": "code",
   "execution_count": null,
   "metadata": {},
   "outputs": [],
   "source": []
  },
  {
   "cell_type": "code",
   "execution_count": null,
   "metadata": {},
   "outputs": [],
   "source": []
  },
  {
   "cell_type": "code",
   "execution_count": null,
   "metadata": {},
   "outputs": [],
   "source": []
  },
  {
   "cell_type": "code",
   "execution_count": null,
   "metadata": {},
   "outputs": [],
   "source": []
  },
  {
   "cell_type": "code",
   "execution_count": null,
   "metadata": {},
   "outputs": [],
   "source": []
  },
  {
   "cell_type": "code",
   "execution_count": null,
   "metadata": {},
   "outputs": [],
   "source": []
  },
  {
   "cell_type": "code",
   "execution_count": null,
   "metadata": {},
   "outputs": [],
   "source": [
    "\n"
   ]
  },
  {
   "cell_type": "code",
   "execution_count": null,
   "metadata": {},
   "outputs": [],
   "source": []
  },
  {
   "cell_type": "code",
   "execution_count": null,
   "metadata": {},
   "outputs": [],
   "source": []
  }
 ],
 "metadata": {
  "kernelspec": {
   "display_name": "Python 3",
   "language": "python",
   "name": "python3"
  },
  "language_info": {
   "codemirror_mode": {
    "name": "ipython",
    "version": 3
   },
   "file_extension": ".py",
   "mimetype": "text/x-python",
   "name": "python",
   "nbconvert_exporter": "python",
   "pygments_lexer": "ipython3",
   "version": "3.7.6"
  }
 },
 "nbformat": 4,
 "nbformat_minor": 4
}
